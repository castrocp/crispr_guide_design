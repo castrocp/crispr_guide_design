{
 "cells": [
  {
   "attachments": {},
   "cell_type": "markdown",
   "metadata": {},
   "source": [
    "# 2023 Guide redesign"
   ]
  },
  {
   "cell_type": "markdown",
   "metadata": {},
   "source": [
    "#### Set up chopchop command line\n",
    "\n",
    "Used this as a guide:\n",
    "    - https://github.com/dpear/guidesign\n",
    "    - Data download url: https://chopchop.cbu.uib.no/genomes/"
   ]
  },
  {
   "cell_type": "code",
   "execution_count": null,
   "metadata": {},
   "outputs": [],
   "source": [
    "# chopchop config (in crmumm/software/chopchop/config_local.json)\n",
    "{\n",
    "  \"PATH\": {\n",
    "    \"PRIMER3\": \"/home/crmumm/software/chopchop/primer3_core\",\n",
    "    \"BOWTIE\": \"/home/crmumm/software/chopchop/bowtie/bowtie\",\n",
    "    \"TWOBITTOFA\": \"/home/crmumm/software/chopchop/twoBitToFa\",\n",
    "    \"TWOBIT_INDEX_DIR\": \"/home/crmumm/STR_guides/STR_Panel/isoforms\",\n",
    "    \"BOWTIE_INDEX_DIR\": \"/home/crmumm/STR_guides/STR_Panel/hg38\",\n",
    "    \"ISOFORMS_INDEX_DIR\": \"/home/crmumm/STR_guides/STR_Panel/isoforms\",\n",
    "    \"ISOFORMS_MT_DIR\": \"/home/crmumm/STR_guides/STR_Panel/isoforms/vienna_mt\",\n",
    "    \"GENE_TABLE_INDEX_DIR\": \"/home/crmumm/STR_guides/STR_Panel/isoforms\"\n",
    "  },\n",
    "  \"THREADS\": 2\n",
    "}"
   ]
  },
  {
   "cell_type": "code",
   "execution_count": null,
   "metadata": {},
   "outputs": [],
   "source": [
    "# test command\n",
    "./nanopore_chopchop_bash.sh -b 202302_targets.bed -f 500 -d 4000 -o test_output -t 8"
   ]
  },
  {
   "attachments": {},
   "cell_type": "markdown",
   "metadata": {},
   "source": [
    "### Need to add back the ones that didn't make the cut for the re-design 48\n",
    "- Lost the inital file, which had updated to a new 48. Backtracking those changes:\n",
    "    - Eliminated CANVAS and ALS\n",
    "    - Added:\n",
    "        - chr2  96197068 96197124 - STARD7\n",
    "        - Margit's ROI\n",
    "\n",
    "- New additions with IDT oPools\n",
    "    - Added:\n",
    "        - CANVAS and ALS\n",
    "        - chr1\t57367040\t57367130 - DAB1 SCA37\n",
    "        - chr3\t183712130\t183712290 - YEATS2 \n",
    "        - chr8\t118366813\t118366918 - SAMD12\n",
    "        - chr2\t201284649\t201284716 - CASP8 \n"
   ]
  },
  {
   "cell_type": "code",
   "execution_count": null,
   "metadata": {},
   "outputs": [],
   "source": [
    "5prime_backbone = 'TTCTAATACGACTCACTATA'\n",
    "3prime_backbone = 'GTTTTAGAGCTAGA'"
   ]
  },
  {
   "attachments": {},
   "cell_type": "markdown",
   "metadata": {},
   "source": [
    "Implemented the mismatch maxes, self complementarity, and efficiency filters as specified in Nanopore's Cas9 docs\n",
    "    - \n",
    "\n",
    "Order Primers:\n",
    "\n",
    "    "
   ]
  },
  {
   "cell_type": "code",
   "execution_count": null,
   "metadata": {},
   "outputs": [],
   "source": [
    "Total targets:\n",
    "- 54\n",
    "\n",
    "Guides needed:\n",
    " - 324"
   ]
  },
  {
   "cell_type": "code",
   "execution_count": null,
   "metadata": {},
   "outputs": [],
   "source": [
    "just iterate. Here's a list of ones that passed with\n",
    "- 3k, 4k, or 5k : 0,1,1,10\n",
    "\n",
    "chr2\t176093059\t176093103 choose the 5k\n",
    "chrX\t25013654\t25013697 choose the 3k\n",
    "chrX\t140504317\t140504381 choose the 3k\n",
    "chr4\t41745972\t41746031 choose the 3k\n",
    "chr6\t16327634\t16327724 choose the 3k upstream and 4k downstream\n",
    "\n",
    "Iteration 2 - removed the above from the candidate list\n",
    "- 3k, 4k, or 5k : 1,2,2,15\n",
    "\n",
    "chr3\t63912686\t63912715 choose 4k rank 2 upstream and 5k rank 1 downstream\n",
    "chr3\t138946021\t138946062 choose 4k rank 1 upstream and 5k rank 2 downstream\n",
    "chr4\t39348425\t39348479 choose 4k rank 1 upstream and 4k rank 2 downstream\n",
    "chr4\t159342530\t159342620 choose 3k rank 2 upstream and 3k rank 1 downstream\n",
    "chr5\t146878729\t146878758 choose 4k rank 2 upstream and 5k rank 2 downstream\n",
    "chr7\t27199925\t27199966 choose 4k rank 2 upstream and 4k rank 2 downstream\n",
    "chr12\t6936717\t6936775 choose 4k rank 1 upstream and 5k rank 2 downstream\n",
    "chr13\t99985449\t99985493 choose 3k rank 1 upstream and 3k rank 2 downstream\n",
    "chr18\t55586154\t55586229 choose 4k rank 2 upstream and 4k rank 1 downstream\n",
    "chr19\t18786010\t18786050 choose 4k rank 1 upstream and 4k rank 2 downstream\n",
    "chr20\t2652733\t2652775 choose 5k rank 2 upstream and 4k rank 1 downstream\n",
    "chrX\t71453055\t71453129 choose 5k rank 2 upstream and 3k rank 3 downstream\n",
    "chrX\t148500602\t148500743 choose 4k rank 1 upstream and 5k rank 2 downstream\n",
    "\n",
    "\n",
    "Iteration 3 - removed the above from the candidate list\n",
    "- 3k, 4k, or 5k : 1,3,3,20\n",
    "\n",
    "chr1\t57367040\t57367130 choose 3k rank 2 upstream and 4k rank 3 downstream\n",
    "chr2\t96197067\t96197124 choose 5k rank 1 upstream and 5k rank 3 downstream\n",
    "chr2\t201284649\t201284716 choose 5k rank 3 upstream and 4k rank 2 downstream\n",
    "chr3\t183712130\t183712290 choose 4k rank 3 upstream and 4k rank 2 downstream\n",
    "chr5\t10398839\t10398849 choose 3k rank 2 upstream and 3k rank 3 downstream\n",
    "chr8\t104588965\t104588999 choose 3k rank 3 upstream and 4k rank 3 downstream\n",
    "chr8\t118366813\t118366918 choose 4k rank 3 upstream and 4k rank 3 downstream\n",
    "chr9\t69037287\t69037305 choose 5k rank 2 upstream and 4k rank 3 downstream\n",
    "chr13\t70139384\t70139429 choose 4k rank 1 upstream and 3k rank 3 downstream\n",
    "chr16\t17470890\t17470930 choose 4k rank 2 upstream and 3k rank 2 downstream\n",
    "chr16\t66490380\t66490740 choose 5k rank 1 upstream and 3k rank 3 downstream\n",
    "chr16\t87604283\t87604329 choose 4k rank 1 upstream and 3k rank 3 downstream\n",
    "chr19\t45770205\t45770264 choose 4k rank 1 upstream and 3k rank 3 downstream\n",
    "chrX\t67545317\t67545419 choose 4k rank 3 upstream and 4k rank 2 downstream\n",
    "chrX\t147912037\t147912111 choose 3k rank 3 upstream and 4k rank 3 downstream \n",
    "\n",
    "Iteration 4 - removed the above from the candidate list\n",
    "- 3k, 4k, or 5k : 2,5,5,25\n",
    "\n",
    "chr2\t100104620\t100104860 choose 4k rank 4 upstream and 5k rank 4 downstream\n",
    "chr3\t129172577\t129172659 choose 5k rank 5 upstream and 4k rank 2 downstream\n",
    "chr6\t45422751\t45422801 choose 3k rank 1 upstream and 3k rank 4 downstream\n",
    "chr6\t170561907\t170562017 choose 5k rank 2 upstream and 4k rank 4 downstream\n",
    "chr10\t79826315\t79826404 choose 5k rank 4 upstream and 5k rank 4 downstream\n",
    "chr16\t24646096\t24646101 choose 5k rank 1 upstream and 5k rank 4 downstream\n",
    "chr21\t43776444\t43776479 choose 5k rank 4 upstream and 4k rank 2 downstream\n",
    "\n",
    "Iteration 4 - removed the above from the candidate list\n",
    "- 3k, 4k, or 5k : 4,5,5,30\n",
    "\n",
    "chr1\t149390802\t149390842 choose 4k rank 5 upstream and 4k rank 5 downstream\n",
    "chr14\t23321464\t23321543 choose 5k rank 5 upstream and 5k rank 1 downstream\n",
    "chr19\t13207859\t13207897 choose 3k rank 5 upstream and 4k rank 3 downstream\n",
    "\n",
    "Iteration 4 - removed the above from the candidate list\n",
    "- 3k, 4k, or 5k : 4,8,8,50\n",
    "\n",
    "chr2\t190880874\t190880919 choose 3k rank 1 upstream and 3k rank 6 downstream\n",
    "chr7\t55887601\t55887934 choose 3k rank 2 upstream and 3k rank 7 downstream\n",
    "chr9\t27573486\t27573546 choose 5k rank 3 upstream and 3k rank 6 downstream\n",
    "chr11\t119206290\t119206323 choose 3k rank 6 upstream and 3k rank 6 downstream\n",
    "chr12\t50505002\t50505053 choose 5k rank 6 upstream and 5k rank 2 downstream\n",
    "chr14\t92071011\t92071052 choose 3k rank 1 upstream and 5k rank 6 downstream\n",
    "chr22\t45795355\t45795425 choose 3k rank 4 upstream and 5k rank 6 downstream\n",
    "\n",
    "Custom distance\n",
    "chr4\t3074877\t3074940 choose 3k rank 2 upstream and short (rank 7) downstream\n",
    "chr12\t111598951\t111599019 choose 4k rank 4 upstream and short (rank 7) downstream\n",
    "chr13\t102161566\t102161731 choose short (rank 7) upstream and rank 6 5k downstream\n",
    "chr19\t14496042\t14496085 choose 3k rank 2 upstream and short (rank 7 downstream) "
   ]
  },
  {
   "cell_type": "code",
   "execution_count": 28,
   "metadata": {},
   "outputs": [],
   "source": [
    "with open(\"order1_guide_list.bed\", \"r\") as guides_in:\n",
    "\n",
    "    line = guides_in.readline()\n",
    "    while line != \"\":\n",
    "        thirty_mer = line.split(\"\\t\")[3]\n",
    "        guide = thirty_mer[4:24]\n",
    "        template_start = 'TAATACGACTCACTATAG'\n",
    "        template_end = 'GTTTTAGAGCTAGAAATAGCAAGTTAAAATAAGGCTAGTCCGTTATCAACTTGAAAAAGTGGCACCGAGTCGGTGCTTTT'\n",
    "        oligo = template_start + guide + template_end\n",
    "        with open(\"/home/crmumm/STR_guides/2023_redesign/final_guides_formatted.txt\", \"a+\") as guides_out:\n",
    "            guides_out.write(oligo.upper() +\"\\n\")\n",
    "        with open(\"/home/crmumm/STR_guides/2023_redesign/final_guides_formatted.fasta\", \"a+\") as guides_fasta:\n",
    "            name=\"\".join(line.split(\"\\t\")[0:2])\n",
    "            guides_fasta.write(\">\" + name +\"\\n\")\n",
    "            guides_fasta.write(guide.upper() +\"\\n\")\n",
    "        line = guides_in.readline()\n",
    "\n",
    "# This has an off by 1 error"
   ]
  },
  {
   "cell_type": "markdown",
   "metadata": {},
   "source": [
    "# They work!!!"
   ]
  },
  {
   "cell_type": "markdown",
   "metadata": {},
   "source": [
    "Okay time for the re-design.\n",
    "\n",
    "Priorities:\n",
    "- Correct Coords\n",
    "- Working\n",
    "- Double cutting\n",
    "- Off target\n",
    "    - CRISPRoff webtool\n",
    "        - 100 guides at at time\n",
    "        - Download the zip\n",
    "    - What do do about buffer changes?\n",
    "\n"
   ]
  },
  {
   "cell_type": "markdown",
   "metadata": {},
   "source": [
    "#### This takes the results from CRISPRoff and finds potential off targets, filtered by score of 3 here.\n",
    "##### Some of these definitely line up with big pileups and I would like to remove those guides in the pared down set if possible\n",
    "> for i in *.final.tsv; do grep -v \"^#\" $i | cut -f 1-5 | awk -v OFS='\\t' 'NR == 2 { value = $4 } { $4 = value } NR > 1 && $5 > 3'; done | bedtools sort > off_targets.bed\n",
    "\n",
    "Set 1:\n",
    "> grep -v \"^>\" final_guides_formatted.fasta | sed -n \"1,100p\" \n",
    "https://rth.dk/resources/crispr/crisproff/results/55092-3326503063\n",
    "\n",
    "Set 2:\n",
    "> grep -v \"^>\" final_guides_formatted.fasta | sed -n \"101,200p\" \n",
    "https://rth.dk/resources/crispr/crisproff/results/55093-2444440370\n",
    "\n",
    "Set 3: \n",
    "> grep -v \"^>\" final_guides_formatted.fasta | sed -n \"201,300p\" \n",
    "https://rth.dk/resources/crispr/crisproff/results/55094-9450222950\n",
    "\n",
    "Set 4:\n",
    "> grep -v \"^>\" final_guides_formatted.fasta | sed -n \"301,325p\" \n",
    "https://rth.dk/resources/crispr/crisproff/results/55096-8549677808\n",
    "\n",
    "\n",
    "\n"
   ]
  },
  {
   "cell_type": "code",
   "execution_count": 1,
   "metadata": {},
   "outputs": [],
   "source": [
    "%%bash\n",
    "# Find the off-target pileups and the guides\n",
    "bedtools multicov -q 10 -bams  /nfs/boylelab_turbo/nanopore_data/RepeatExpansion/20230721_1351_MN35288_FAV25496_b8644466/4cb93c85b202e892a2f08d895c65c5ec22d9c649.sorted.bam \\\n",
    "    /nfs/boylelab_turbo/nanopore_data/RepeatExpansion/20230714_1027_MN34990_FAV29295_9de49040/9a5172aeea1056f2dfdd20ca793394d72217ef71.sorted.bam \\\n",
    "    /nfs/boylelab_turbo/nanopore_data/RepeatExpansion/20230801_1601_MN35288_FAV31485_0f297fb7/55f83cc157c4c56d98414529bdefb8d3da4c4ad7.sorted.bam \\\n",
    "    /nfs/boylelab_turbo/nanopore_data/RepeatExpansion/20230714_1533_MN41861_FAV31088_afbf1cbb/1dc466321c4d986539a1b3a2705d8de8de966264.sorted.bam \\\n",
    "    /nfs/boylelab_turbo/nanopore_data/RepeatExpansion/20230803_1548_MN31260_FAV20969_ebbf0619/8c14ab2273696f9767f31d315dce7ae1facf04a2.sorted.bam \\\n",
    "    /nfs/boylelab_turbo/nanopore_data/RepeatExpansion/20230720_0939_MN34990_FAV29775_f9bda568/2f35b931f5821297fa02ea91f17b3f0a7cdcd393.sorted.bam \\\n",
    "    -bed /home/crmumm/STR/STR_Panel/off_target/CRISPRoff/off_targets.bed > off_target_coverage.bed"
   ]
  },
  {
   "cell_type": "markdown",
   "metadata": {},
   "source": [
    "Manually checked high off targets:\n",
    "    - There were a couple guides that were driving a lot of off target\n",
    "        - remove those for the next set\n",
    "\n",
    "Ones to be added:\n",
    "- Correct MARCH6\n",
    "- Those in Gnomad that we don't have\n",
    "\n",
    "\n"
   ]
  },
  {
   "cell_type": "code",
   "execution_count": null,
   "metadata": {},
   "outputs": [],
   "source": [
    "## new designs, iter1\n",
    "\n",
    "# Rank 1\n",
    "- 3k, 4k, or 5k : 0,1,1,10\n",
    "chr1\t1435798\t1435818 choose 4k upstream and 2 from 3k (400) downstream\n",
    "chr5\t10377747\t10377769 choose 3k upstream and 2 from 5k (400) downstream\n",
    "chr9\t130681606\t130681639 choose 3k upstream and 2 from 3k (400) downstream\n",
    "chr15\t22786677\t22786701 choose 2 from 3k (400) upstream and 4k (400) downstream\n",
    "chr17\t80147059\t80147139 choose 5k (400) upstream and 5k (400) downstream\n",
    "chr22\t19766762\t19766807 choose 5k upstream and 5k downstream\n",
    "chrX\t31284557\t31284605 choose 3k upstream and 2 from 4k downstream"
   ]
  },
  {
   "cell_type": "code",
   "execution_count": 4,
   "metadata": {},
   "outputs": [],
   "source": [
    "with open(\"order2_guide_list.bed\", \"r\") as guides_in:\n",
    "\n",
    "    line = guides_in.readline()\n",
    "    while line != \"\":\n",
    "        thirty_mer = line.split(\"\\t\")[3]\n",
    "        guide = thirty_mer[4:24]\n",
    "        template_start = 'TAATACGACTCACTATAG'\n",
    "        template_end = 'GTTTTAGAGCTAGAAATAGCAAGTTAAAATAAGGCTAGTCCGTTATCAACTTGAAAAAGTGGCACCGAGTCGGTGCTTTT'\n",
    "        oligo = template_start + guide + template_end\n",
    "        with open(\"order2_guides_formatted.txt\", \"a+\") as guides_out:\n",
    "            guides_out.write(oligo.upper() +\"\\n\")\n",
    "        with open(\"order2_guides_formatted.fasta\", \"a+\") as guides_fasta:\n",
    "            name=\"\".join(line.split(\"\\t\")[0:2])\n",
    "            guides_fasta.write(\">\" + name +\"\\n\")\n",
    "            guides_fasta.write(guide.upper() +\"\\n\")\n",
    "        line = guides_in.readline()"
   ]
  },
  {
   "cell_type": "markdown",
   "metadata": {},
   "source": [
    "## Design round 3"
   ]
  },
  {
   "cell_type": "markdown",
   "metadata": {},
   "source": [
    "Still have the incorrect coords for MARCH6 locus\n",
    "\n",
    "```\n",
    "#From Kinsey's coords\n",
    "chr5:10356340-10356411\n",
    "name: TTTTA\n",
    "location: chr5:10356340-10356411\n",
    "score: 1000.0\n",
    "```\n"
   ]
  },
  {
   "cell_type": "code",
   "execution_count": 2,
   "metadata": {},
   "outputs": [
    {
     "name": "stdout",
     "output_type": "stream",
     "text": [
      "stop coord \"$col2\" is \"$col2_int\"\n",
      "./nanopore_chopchop_bash.sh: line 107: order3_guides/*.txt: No such file or directory\n",
      "./nanopore_chopchop_bash.sh: line 139: order3_guides/*_filtered.tsv: No such file or directory\n",
      "ls: cannot access 'order3_guides/*.upstream.bed': No such file or directory\n",
      "ls: cannot access 'order3_guides/*.downstream.bed': No such file or directory\n",
      "cat: 'order3_guides/*high_scoring_guides.*bed': No such file or directory\n"
     ]
    }
   ],
   "source": [
    "./nanopore_chopchop_bash.sh -b /home/crmumm/STR/STR_Panel/iter2_redesign_and_additions.bed -f 500 -d 4000 -o order3_guides -t 8"
   ]
  },
  {
   "cell_type": "code",
   "execution_count": null,
   "metadata": {},
   "outputs": [],
   "source": [
    "## new designs, iter1\n",
    "\n",
    "# Rank 1\n",
    "- 3k, 4k, or 5k : 0,1,1,10\n",
    "chr5\t10356340\t10356411 choose 5k upstream and 2 from 2.5k downstream \n",
    "\n",
    "Remove chr6\t45419625\t45419655\tGGGACTCGAGAGACCTGTGCACGCAGGGGA\t6.784084\t+ for double cuts\n",
    "Remove chr9\t130678614\t130678644\tGGAGGACCAGAAAAAGAACAAGCATGGTAG\t7.172003\t+ for off target disrupting another guide"
   ]
  },
  {
   "cell_type": "code",
   "execution_count": 5,
   "metadata": {},
   "outputs": [],
   "source": [
    "with open(\"order3_guide_list.bed\", \"r\") as guides_in:\n",
    "\n",
    "    line = guides_in.readline()\n",
    "    while line != \"\":\n",
    "        thirty_mer = line.split(\"\\t\")[3]\n",
    "        guide = thirty_mer[4:24]\n",
    "        template_start = 'TAATACGACTCACTATAG'\n",
    "        template_end = 'GTTTTAGAGCTAGAAATAGCAAGTTAAAATAAGGCTAGTCCGTTATCAACTTGAAAAAGTGGCACCGAGTCGGTGCTTTT'\n",
    "        oligo = template_start + guide + template_end\n",
    "        with open(\"order3_guides_formatted.txt\", \"a+\") as guides_out:\n",
    "            guides_out.write(oligo.upper() +\"\\n\")\n",
    "        with open(\"order3_guides_formatted.fasta\", \"a+\") as guides_fasta:\n",
    "            name=\"\".join(line.split(\"\\t\")[0:2])\n",
    "            guides_fasta.write(\">\" + name +\"\\n\")\n",
    "            guides_fasta.write(guide.upper() +\"\\n\")\n",
    "        line = guides_in.readline()"
   ]
  },
  {
   "cell_type": "markdown",
   "metadata": {},
   "source": [
    "# Design Round 4"
   ]
  },
  {
   "cell_type": "code",
   "execution_count": null,
   "metadata": {},
   "outputs": [],
   "source": [
    "Additional targets:\n",
    "# CJD - PRNP\n",
    "chr20:4,699,397-4,699,493\n",
    "# X-linked VACTERL syndrome - ZIC3\n",
    "chrX:137,566,826-137,566,856\n",
    "# SCA4 - ZFHX3 \n",
    "chr16:72,787,694-72,787,761\n",
    "# ALS - WDR7\n",
    "chr18:57,024,496-57,024,946\n",
    "# \n",
    "Corrected:\n",
    "# FAME6 - TNRC6A\n",
    "chr16:24,613,440-24,613,532\n"
   ]
  },
  {
   "cell_type": "raw",
   "metadata": {},
   "source": [
    "chr12\t123533718\t123533757\n",
    "chr16\t24613440\t24613532\n",
    "chr16\t67842863\t67842950\n",
    "chr16\t72821256\t72822086\n",
    "chr20\t4699397\t4699493\n",
    "chrX\t137566826\t137566856"
   ]
  }
 ],
 "metadata": {
  "kernelspec": {
   "display_name": "base",
   "language": "python",
   "name": "python3"
  },
  "language_info": {
   "codemirror_mode": {
    "name": "ipython",
    "version": 3
   },
   "file_extension": ".py",
   "mimetype": "text/x-python",
   "name": "python",
   "nbconvert_exporter": "python",
   "pygments_lexer": "ipython3",
   "version": "3.10.13"
  },
  "orig_nbformat": 4
 },
 "nbformat": 4,
 "nbformat_minor": 2
}
